{
 "cells": [
  {
   "cell_type": "markdown",
   "metadata": {},
   "source": [
    "# Cart Pole System"
   ]
  },
  {
   "cell_type": "code",
   "execution_count": 4,
   "metadata": {},
   "outputs": [
    {
     "name": "stdout",
     "output_type": "stream",
     "text": [
      "_________________________________________________________________\n",
      "Layer (type)                 Output Shape              Param #   \n",
      "=================================================================\n",
      "flatten_1 (Flatten)          (None, 4)                 0         \n",
      "_________________________________________________________________\n",
      "dense_1 (Dense)              (None, 16)                80        \n",
      "_________________________________________________________________\n",
      "activation_1 (Activation)    (None, 16)                0         \n",
      "_________________________________________________________________\n",
      "dense_2 (Dense)              (None, 16)                272       \n",
      "_________________________________________________________________\n",
      "activation_2 (Activation)    (None, 16)                0         \n",
      "_________________________________________________________________\n",
      "dense_3 (Dense)              (None, 16)                272       \n",
      "_________________________________________________________________\n",
      "activation_3 (Activation)    (None, 16)                0         \n",
      "_________________________________________________________________\n",
      "dense_4 (Dense)              (None, 2)                 34        \n",
      "_________________________________________________________________\n",
      "activation_4 (Activation)    (None, 2)                 0         \n",
      "=================================================================\n",
      "Total params: 658\n",
      "Trainable params: 658\n",
      "Non-trainable params: 0\n",
      "_________________________________________________________________\n",
      "None\n"
     ]
    }
   ],
   "source": [
    "import gym\n",
    "import numpy as np \n",
    "from keras.models import Sequential\n",
    "from keras.layers import Dense, Activation, Flatten\n",
    "from keras.optimizers import Adam\n",
    "from rl.agents.dqn import DQNAgent\n",
    "from rl.policy import BoltzmannQPolicy\n",
    "from rl.memory import SequentialMemory\n",
    "\n",
    "env = gym.make('CartPole-v0')\n",
    "np.random.seed(1)\n",
    "env.seed(1)\n",
    "\n",
    "nb_actions = env.action_space.n\n",
    "\n",
    "model = Sequential()\n",
    "model.add(Flatten(input_shape=(1,) + env.observation_space.shape))\n",
    "model.add(Dense(16))\n",
    "model.add(Activation('relu'))\n",
    "model.add(Dense(16))\n",
    "model.add(Activation('relu'))\n",
    "model.add(Dense(16))\n",
    "model.add(Activation('relu'))\n",
    "model.add(Dense(nb_actions))\n",
    "model.add(Activation('linear'))\n",
    "\n",
    "print(model.summary())"
   ]
  },
  {
   "cell_type": "code",
   "execution_count": 6,
   "metadata": {},
   "outputs": [
    {
     "name": "stdout",
     "output_type": "stream",
     "text": [
      "Training for 1000 steps ...\n"
     ]
    },
    {
     "name": "stderr",
     "output_type": "stream",
     "text": [
      "/usr/local/lib/python2.7/site-packages/rl/memory.py:39: UserWarning: Not enough entries to sample without replacement. Consider increasing your warm-up phase to avoid oversampling!\n",
      "  warnings.warn('Not enough entries to sample without replacement. Consider increasing your warm-up phase to avoid oversampling!')\n"
     ]
    },
    {
     "name": "stdout",
     "output_type": "stream",
     "text": [
      "  19/1000: episode: 1, duration: 1.740s, episode steps: 19, steps per second: 11, episode reward: 19.000, mean reward: 1.000 [1.000, 1.000], mean action: 0.368 [0.000, 1.000], mean observation: 0.066 [-1.176, 1.899], loss: 0.492009, mean_absolute_error: 0.539172, mean_q: 0.136899\n",
      "  36/1000: episode: 2, duration: 0.281s, episode steps: 17, steps per second: 60, episode reward: 17.000, mean reward: 1.000 [1.000, 1.000], mean action: 0.471 [0.000, 1.000], mean observation: -0.107 [-0.984, 0.363], loss: 0.372251, mean_absolute_error: 0.541726, mean_q: 0.360728\n",
      "  45/1000: episode: 3, duration: 0.149s, episode steps: 9, steps per second: 60, episode reward: 9.000, mean reward: 1.000 [1.000, 1.000], mean action: 0.222 [0.000, 1.000], mean observation: 0.148 [-1.182, 1.984], loss: 0.290552, mean_absolute_error: 0.544632, mean_q: 0.563937\n",
      "  56/1000: episode: 4, duration: 0.180s, episode steps: 11, steps per second: 61, episode reward: 11.000, mean reward: 1.000 [1.000, 1.000], mean action: 0.273 [0.000, 1.000], mean observation: 0.096 [-1.036, 1.776], loss: 0.211969, mean_absolute_error: 0.583211, mean_q: 0.864271\n",
      "  65/1000: episode: 5, duration: 0.149s, episode steps: 9, steps per second: 60, episode reward: 9.000, mean reward: 1.000 [1.000, 1.000], mean action: 0.222 [0.000, 1.000], mean observation: 0.142 [-1.174, 1.887], loss: 0.165245, mean_absolute_error: 0.645075, mean_q: 1.140947\n",
      "  74/1000: episode: 6, duration: 0.152s, episode steps: 9, steps per second: 59, episode reward: 9.000, mean reward: 1.000 [1.000, 1.000], mean action: 0.111 [0.000, 1.000], mean observation: 0.135 [-1.419, 2.310], loss: 0.150352, mean_absolute_error: 0.692519, mean_q: 1.306040\n",
      " 105/1000: episode: 7, duration: 0.515s, episode steps: 31, steps per second: 60, episode reward: 31.000, mean reward: 1.000 [1.000, 1.000], mean action: 0.387 [0.000, 1.000], mean observation: 0.040 [-1.363, 2.330], loss: 0.150289, mean_absolute_error: 0.731163, mean_q: 1.318293\n",
      " 114/1000: episode: 8, duration: 0.155s, episode steps: 9, steps per second: 58, episode reward: 9.000, mean reward: 1.000 [1.000, 1.000], mean action: 0.222 [0.000, 1.000], mean observation: 0.144 [-0.969, 1.763], loss: 0.115845, mean_absolute_error: 0.789234, mean_q: 1.552123\n",
      " 134/1000: episode: 9, duration: 0.328s, episode steps: 20, steps per second: 61, episode reward: 20.000, mean reward: 1.000 [1.000, 1.000], mean action: 0.400 [0.000, 1.000], mean observation: 0.092 [-0.824, 1.779], loss: 0.105279, mean_absolute_error: 0.859327, mean_q: 1.676100\n",
      " 149/1000: episode: 10, duration: 0.252s, episode steps: 15, steps per second: 60, episode reward: 15.000, mean reward: 1.000 [1.000, 1.000], mean action: 0.467 [0.000, 1.000], mean observation: 0.089 [-1.012, 1.578], loss: 0.100706, mean_absolute_error: 0.934864, mean_q: 1.830638\n",
      " 167/1000: episode: 11, duration: 0.296s, episode steps: 18, steps per second: 61, episode reward: 18.000, mean reward: 1.000 [1.000, 1.000], mean action: 0.389 [0.000, 1.000], mean observation: 0.053 [-0.992, 1.561], loss: 0.084559, mean_absolute_error: 1.009472, mean_q: 2.022312\n",
      " 177/1000: episode: 12, duration: 0.171s, episode steps: 10, steps per second: 59, episode reward: 10.000, mean reward: 1.000 [1.000, 1.000], mean action: 0.700 [0.000, 1.000], mean observation: -0.141 [-1.944, 1.134], loss: 0.080930, mean_absolute_error: 1.058215, mean_q: 2.166717\n",
      " 198/1000: episode: 13, duration: 0.346s, episode steps: 21, steps per second: 61, episode reward: 21.000, mean reward: 1.000 [1.000, 1.000], mean action: 0.429 [0.000, 1.000], mean observation: 0.090 [-0.769, 1.451], loss: 0.115446, mean_absolute_error: 1.150424, mean_q: 2.236527\n",
      " 216/1000: episode: 14, duration: 0.301s, episode steps: 18, steps per second: 60, episode reward: 18.000, mean reward: 1.000 [1.000, 1.000], mean action: 0.278 [0.000, 1.000], mean observation: 0.066 [-1.545, 2.419], loss: 0.101084, mean_absolute_error: 1.216697, mean_q: 2.391376\n",
      " 230/1000: episode: 15, duration: 0.232s, episode steps: 14, steps per second: 60, episode reward: 14.000, mean reward: 1.000 [1.000, 1.000], mean action: 0.357 [0.000, 1.000], mean observation: 0.089 [-1.020, 1.624], loss: 0.081130, mean_absolute_error: 1.269620, mean_q: 2.531665\n",
      " 250/1000: episode: 16, duration: 0.334s, episode steps: 20, steps per second: 60, episode reward: 20.000, mean reward: 1.000 [1.000, 1.000], mean action: 0.550 [0.000, 1.000], mean observation: 0.126 [-0.540, 0.982], loss: 0.113598, mean_absolute_error: 1.350492, mean_q: 2.638613\n",
      " 264/1000: episode: 17, duration: 0.233s, episode steps: 14, steps per second: 60, episode reward: 14.000, mean reward: 1.000 [1.000, 1.000], mean action: 0.429 [0.000, 1.000], mean observation: 0.082 [-0.993, 1.516], loss: 0.070743, mean_absolute_error: 1.402211, mean_q: 2.763649\n",
      " 284/1000: episode: 18, duration: 0.334s, episode steps: 20, steps per second: 60, episode reward: 20.000, mean reward: 1.000 [1.000, 1.000], mean action: 0.350 [0.000, 1.000], mean observation: 0.057 [-1.228, 2.081], loss: 0.086215, mean_absolute_error: 1.468505, mean_q: 2.862800\n",
      " 304/1000: episode: 19, duration: 0.330s, episode steps: 20, steps per second: 61, episode reward: 20.000, mean reward: 1.000 [1.000, 1.000], mean action: 0.300 [0.000, 1.000], mean observation: 0.029 [-1.607, 2.331], loss: 0.123059, mean_absolute_error: 1.561451, mean_q: 2.996097\n",
      " 324/1000: episode: 20, duration: 0.338s, episode steps: 20, steps per second: 59, episode reward: 20.000, mean reward: 1.000 [1.000, 1.000], mean action: 0.350 [0.000, 1.000], mean observation: 0.053 [-1.584, 2.325], loss: 0.117215, mean_absolute_error: 1.629969, mean_q: 3.133260\n",
      " 346/1000: episode: 21, duration: 0.362s, episode steps: 22, steps per second: 61, episode reward: 22.000, mean reward: 1.000 [1.000, 1.000], mean action: 0.455 [0.000, 1.000], mean observation: 0.032 [-1.115, 1.509], loss: 0.127471, mean_absolute_error: 1.722898, mean_q: 3.297021\n",
      " 355/1000: episode: 22, duration: 0.149s, episode steps: 9, steps per second: 60, episode reward: 9.000, mean reward: 1.000 [1.000, 1.000], mean action: 0.778 [0.000, 1.000], mean observation: -0.147 [-1.888, 1.127], loss: 0.107403, mean_absolute_error: 1.801831, mean_q: 3.497302\n",
      " 383/1000: episode: 23, duration: 0.470s, episode steps: 28, steps per second: 60, episode reward: 28.000, mean reward: 1.000 [1.000, 1.000], mean action: 0.429 [0.000, 1.000], mean observation: -0.002 [-1.522, 1.939], loss: 0.126233, mean_absolute_error: 1.868478, mean_q: 3.606685\n",
      " 393/1000: episode: 24, duration: 0.164s, episode steps: 10, steps per second: 61, episode reward: 10.000, mean reward: 1.000 [1.000, 1.000], mean action: 0.300 [0.000, 1.000], mean observation: 0.139 [-0.777, 1.547], loss: 0.112099, mean_absolute_error: 1.943568, mean_q: 3.769143\n",
      " 414/1000: episode: 25, duration: 0.347s, episode steps: 21, steps per second: 61, episode reward: 21.000, mean reward: 1.000 [1.000, 1.000], mean action: 0.571 [0.000, 1.000], mean observation: 0.102 [-0.431, 1.065], loss: 0.171384, mean_absolute_error: 2.006381, mean_q: 3.838000\n",
      " 426/1000: episode: 26, duration: 0.202s, episode steps: 12, steps per second: 60, episode reward: 12.000, mean reward: 1.000 [1.000, 1.000], mean action: 0.333 [0.000, 1.000], mean observation: 0.097 [-1.197, 1.882], loss: 0.162357, mean_absolute_error: 2.093421, mean_q: 4.035223\n",
      " 473/1000: episode: 27, duration: 0.780s, episode steps: 47, steps per second: 60, episode reward: 47.000, mean reward: 1.000 [1.000, 1.000], mean action: 0.447 [0.000, 1.000], mean observation: -0.207 [-1.290, 0.599], loss: 0.226905, mean_absolute_error: 2.198001, mean_q: 4.200571\n",
      " 488/1000: episode: 28, duration: 0.252s, episode steps: 15, steps per second: 59, episode reward: 15.000, mean reward: 1.000 [1.000, 1.000], mean action: 0.333 [0.000, 1.000], mean observation: 0.082 [-1.156, 1.945], loss: 0.156299, mean_absolute_error: 2.324665, mean_q: 4.522630\n",
      " 504/1000: episode: 29, duration: 0.264s, episode steps: 16, steps per second: 61, episode reward: 16.000, mean reward: 1.000 [1.000, 1.000], mean action: 0.375 [0.000, 1.000], mean observation: 0.124 [-0.751, 1.596], loss: 0.327355, mean_absolute_error: 2.398578, mean_q: 4.551725\n",
      " 527/1000: episode: 30, duration: 0.382s, episode steps: 23, steps per second: 60, episode reward: 23.000, mean reward: 1.000 [1.000, 1.000], mean action: 0.565 [0.000, 1.000], mean observation: -0.082 [-1.520, 0.803], loss: 0.224506, mean_absolute_error: 2.479615, mean_q: 4.754207\n",
      " 538/1000: episode: 31, duration: 0.183s, episode steps: 11, steps per second: 60, episode reward: 11.000, mean reward: 1.000 [1.000, 1.000], mean action: 0.273 [0.000, 1.000], mean observation: 0.132 [-1.153, 1.812], loss: 0.204470, mean_absolute_error: 2.494473, mean_q: 4.794641\n"
     ]
    },
    {
     "name": "stdout",
     "output_type": "stream",
     "text": [
      " 583/1000: episode: 32, duration: 0.750s, episode steps: 45, steps per second: 60, episode reward: 45.000, mean reward: 1.000 [1.000, 1.000], mean action: 0.467 [0.000, 1.000], mean observation: 0.047 [-1.180, 1.797], loss: 0.283482, mean_absolute_error: 2.654948, mean_q: 5.099975\n",
      " 604/1000: episode: 33, duration: 0.349s, episode steps: 21, steps per second: 60, episode reward: 21.000, mean reward: 1.000 [1.000, 1.000], mean action: 0.429 [0.000, 1.000], mean observation: 0.049 [-0.790, 1.324], loss: 0.267343, mean_absolute_error: 2.788553, mean_q: 5.412519\n",
      " 639/1000: episode: 34, duration: 0.583s, episode steps: 35, steps per second: 60, episode reward: 35.000, mean reward: 1.000 [1.000, 1.000], mean action: 0.486 [0.000, 1.000], mean observation: -0.080 [-1.068, 0.817], loss: 0.314576, mean_absolute_error: 2.887800, mean_q: 5.555448\n",
      " 665/1000: episode: 35, duration: 0.431s, episode steps: 26, steps per second: 60, episode reward: 26.000, mean reward: 1.000 [1.000, 1.000], mean action: 0.500 [0.000, 1.000], mean observation: -0.091 [-1.247, 0.575], loss: 0.234506, mean_absolute_error: 3.006976, mean_q: 5.882825\n",
      " 716/1000: episode: 36, duration: 0.851s, episode steps: 51, steps per second: 60, episode reward: 51.000, mean reward: 1.000 [1.000, 1.000], mean action: 0.510 [0.000, 1.000], mean observation: -0.002 [-1.362, 0.988], loss: 0.410121, mean_absolute_error: 3.159683, mean_q: 6.068589\n",
      " 734/1000: episode: 37, duration: 0.300s, episode steps: 18, steps per second: 60, episode reward: 18.000, mean reward: 1.000 [1.000, 1.000], mean action: 0.389 [0.000, 1.000], mean observation: 0.063 [-1.178, 1.895], loss: 0.313567, mean_absolute_error: 3.340671, mean_q: 6.508469\n",
      " 748/1000: episode: 38, duration: 0.232s, episode steps: 14, steps per second: 60, episode reward: 14.000, mean reward: 1.000 [1.000, 1.000], mean action: 0.429 [0.000, 1.000], mean observation: 0.087 [-0.824, 1.404], loss: 0.549934, mean_absolute_error: 3.390398, mean_q: 6.524097\n",
      " 768/1000: episode: 39, duration: 0.332s, episode steps: 20, steps per second: 60, episode reward: 20.000, mean reward: 1.000 [1.000, 1.000], mean action: 0.550 [0.000, 1.000], mean observation: 0.118 [-0.604, 1.014], loss: 0.431051, mean_absolute_error: 3.377860, mean_q: 6.504298\n",
      " 784/1000: episode: 40, duration: 0.268s, episode steps: 16, steps per second: 60, episode reward: 16.000, mean reward: 1.000 [1.000, 1.000], mean action: 0.500 [0.000, 1.000], mean observation: 0.108 [-0.555, 0.949], loss: 0.199913, mean_absolute_error: 3.486629, mean_q: 6.827673\n",
      " 798/1000: episode: 41, duration: 0.233s, episode steps: 14, steps per second: 60, episode reward: 14.000, mean reward: 1.000 [1.000, 1.000], mean action: 0.357 [0.000, 1.000], mean observation: 0.083 [-0.948, 1.485], loss: 0.402564, mean_absolute_error: 3.507926, mean_q: 6.765790\n",
      " 824/1000: episode: 42, duration: 0.433s, episode steps: 26, steps per second: 60, episode reward: 26.000, mean reward: 1.000 [1.000, 1.000], mean action: 0.500 [0.000, 1.000], mean observation: 0.117 [-0.614, 1.002], loss: 0.714225, mean_absolute_error: 3.609937, mean_q: 6.863113\n",
      " 868/1000: episode: 43, duration: 0.733s, episode steps: 44, steps per second: 60, episode reward: 44.000, mean reward: 1.000 [1.000, 1.000], mean action: 0.477 [0.000, 1.000], mean observation: 0.082 [-0.746, 1.680], loss: 0.412606, mean_absolute_error: 3.698975, mean_q: 7.132423\n",
      " 900/1000: episode: 44, duration: 0.532s, episode steps: 32, steps per second: 60, episode reward: 32.000, mean reward: 1.000 [1.000, 1.000], mean action: 0.531 [0.000, 1.000], mean observation: -0.056 [-1.370, 0.593], loss: 0.367053, mean_absolute_error: 3.799290, mean_q: 7.341342\n",
      " 964/1000: episode: 45, duration: 1.067s, episode steps: 64, steps per second: 60, episode reward: 64.000, mean reward: 1.000 [1.000, 1.000], mean action: 0.484 [0.000, 1.000], mean observation: -0.040 [-1.005, 1.207], loss: 0.504405, mean_absolute_error: 4.022272, mean_q: 7.758887\n",
      "done, took 18.089 seconds\n",
      "Testing for 5 episodes ...\n",
      "Episode 1: reward: 36.000, steps: 36\n",
      "Episode 2: reward: 40.000, steps: 40\n",
      "Episode 3: reward: 36.000, steps: 36\n",
      "Episode 4: reward: 25.000, steps: 25\n",
      "Episode 5: reward: 33.000, steps: 33\n"
     ]
    },
    {
     "data": {
      "text/plain": [
       "<keras.callbacks.History at 0x1349a3e50>"
      ]
     },
     "execution_count": 6,
     "metadata": {},
     "output_type": "execute_result"
    }
   ],
   "source": [
    "memory = SequentialMemory(limit = 50000, window_length = 1)\n",
    "policy = BoltzmannQPolicy()\n",
    "dqn = DQNAgent(\n",
    "    model = model, \n",
    "    nb_actions = \n",
    "    nb_actions,\n",
    "    memory = memory, \n",
    "    nb_steps_warmup = 10, \n",
    "    target_model_update = 1e-2, \n",
    "    policy = policy)\n",
    "\n",
    "dqn.compile(Adam(lr = 1e-3), metrics=['mae'])\n",
    "dqn.fit(env, nb_steps = 1000, visualize = True, verbose = 2)\n",
    "dqn.save_weights('dqn_weights.h5f', overwrite = True)\n",
    "dqn.test(env, nb_episodes = 5, visualize = True)"
   ]
  },
  {
   "cell_type": "code",
   "execution_count": null,
   "metadata": {},
   "outputs": [],
   "source": []
  }
 ],
 "metadata": {
  "kernelspec": {
   "display_name": "Python 2",
   "language": "python",
   "name": "python2"
  },
  "language_info": {
   "codemirror_mode": {
    "name": "ipython",
    "version": 2
   },
   "file_extension": ".py",
   "mimetype": "text/x-python",
   "name": "python",
   "nbconvert_exporter": "python",
   "pygments_lexer": "ipython2",
   "version": "2.7.15"
  }
 },
 "nbformat": 4,
 "nbformat_minor": 2
}
